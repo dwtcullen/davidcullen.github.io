{
 "cells": [
  {
   "cell_type": "code",
   "execution_count": null,
   "id": "9d7a22f8-2aed-4523-a5b0-5d2de407c71d",
   "metadata": {},
   "outputs": [],
   "source": [
    "import main\n",
    "main.process_images(\n",
    "    \n",
    "    #Folders\n",
    "    root_directory = 'DATA/12/12A',   #Everything after Scratch/[your username]/\n",
    "    image_folder = 'raw',          #Sub-folder containing the raw images\n",
    "    output_df_name = 'df_12A',\n",
    "    \n",
    "    #Processing Settings\n",
    "    CPU_or_GPU = 'GPU',          #Options: 'CPU', 'GPU'\n",
    "    microscope_name = 'Vader',   #Options: 'Vader', 'Maul', 'Deltavision', 'Operetta'\n",
    "    user = 'uqdcull4',           #Tell the program the username you use for Bunya\n",
    "    model_name = 'cellpose7',    #Options: 'cellpose7', 'nuclei'\n",
    "    \n",
    "    #Kinase Translocation Reporter\n",
    "    KTR_channel = 'Green',       #Options: 'Green', 'Orange'\n",
    "    has_KTR = True,             #Does the dataset have cells containing Kinase Translocation Reporters?\n",
    "    \n",
    "    #Image Output\n",
    "    output_masks = False,        #Do you want to output `masked arrays to use in a different program?\n",
    "    output_image_stacks = False,\n",
    "    \n",
    "    #Data Output\n",
    "    output_df = True,\n",
    "    crop = False,\n",
    "    calculate_pearson = False\n",
    "    \n",
    ")"
   ]
  },
  {
   "cell_type": "code",
   "execution_count": null,
   "id": "2ab68259-72dc-4de0-a3fb-6dcc1d84d7f2",
   "metadata": {
    "tags": []
   },
   "outputs": [],
   "source": []
  },
  {
   "cell_type": "code",
   "execution_count": null,
   "id": "dab9ffd9-bfff-41e1-8347-db9d9ba3ea81",
   "metadata": {},
   "outputs": [],
   "source": []
  }
 ],
 "metadata": {
  "kernelspec": {
   "display_name": "Python 3 (ipykernel)",
   "language": "python",
   "name": "python3"
  },
  "language_info": {
   "codemirror_mode": {
    "name": "ipython",
    "version": 3
   },
   "file_extension": ".py",
   "mimetype": "text/x-python",
   "name": "python",
   "nbconvert_exporter": "python",
   "pygments_lexer": "ipython3",
   "version": "3.11.5"
  }
 },
 "nbformat": 4,
 "nbformat_minor": 5
}
